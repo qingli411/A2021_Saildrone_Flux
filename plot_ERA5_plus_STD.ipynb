{
 "cells": [
  {
   "cell_type": "code",
   "execution_count": 1,
   "id": "dc101ca1",
   "metadata": {},
   "outputs": [],
   "source": [
    "import os\n",
    "import sys\n",
    "import numpy as np\n",
    "import matplotlib.pyplot as plt\n",
    "# add the path of gotmtool\n",
    "sys.path.append(\"../gotmtool\")\n",
    "from gotmtool import *\n",
    "from gotmtool.diags import *"
   ]
  },
  {
   "cell_type": "code",
   "execution_count": 2,
   "id": "fbd23d49",
   "metadata": {},
   "outputs": [],
   "source": [
    "# set gotm\n",
    "gotm_root = os.environ['HOME']+'/scratch/saildrone_southern_ocean/gotm/run/ERA5_plus_STD'\n",
    "prefix_list = [filename for filename in os.listdir(gotm_root) if filename.startswith('C')]\n",
    "filename = 'gotm_out.nc'"
   ]
  },
  {
   "cell_type": "code",
   "execution_count": 3,
   "id": "ad0accce",
   "metadata": {},
   "outputs": [],
   "source": [
    "tidx = -48\n",
    "dat = {}\n",
    "clabels = set()\n",
    "mlabels = set()\n",
    "hlabels = set()\n",
    "tlabels = set()\n",
    "for casename in prefix_list:\n",
    "#     print(casename)\n",
    "    casestring, mlabel = casename.split('_')\n",
    "    clabel, _, hlabel, _, tlabel = casestring.split('-')\n",
    "    sim = Simulation(path=gotm_root+'/'+casename)\n",
    "    dataset = sim.load_data()\n",
    "    heatflux = dataset.data_vars['heat'][0,0,0].values\n",
    "    tau = dataset.data_vars['tx'][0,0,0].values\n",
    "    rho = dataset.data_vars['rho'][:,:,0,0]\n",
    "    time = dataset.time\n",
    "    mld = -get_mld_deltaR(rho)\n",
    "    mldavg = mld[tidx:].mean().values\n",
    "    tmp = {\n",
    "        'clabel': clabel,\n",
    "        'hlabel': hlabel,\n",
    "        'tlabel': tlabel,\n",
    "        'mlabel': mlabel,\n",
    "        'heat':   float(heatflux),\n",
    "        'tau':    float(tau),\n",
    "        'mldavg': float(mldavg),\n",
    "        }\n",
    "    dat[casename] = tmp\n",
    "    clabels.add(clabel)\n",
    "    mlabels.add(mlabel)\n",
    "    hlabels.add(hlabel)\n",
    "    tlabels.add(tlabel)"
   ]
  },
  {
   "cell_type": "code",
   "execution_count": 4,
   "id": "068d3816",
   "metadata": {},
   "outputs": [
    {
     "data": {
      "text/plain": [
       "{'0', 'm1', 'm2', 'm3', 'p1', 'p2', 'p3'}"
      ]
     },
     "execution_count": 4,
     "metadata": {},
     "output_type": "execute_result"
    }
   ],
   "source": [
    "tlabels"
   ]
  },
  {
   "cell_type": "code",
   "execution_count": 5,
   "id": "fa7a791b",
   "metadata": {},
   "outputs": [
    {
     "data": {
      "text/plain": [
       "{'0', 'm1', 'm2', 'm3', 'p1', 'p2', 'p3'}"
      ]
     },
     "execution_count": 5,
     "metadata": {},
     "output_type": "execute_result"
    }
   ],
   "source": [
    "hlabels"
   ]
  },
  {
   "cell_type": "code",
   "execution_count": 6,
   "id": "4d18926e",
   "metadata": {},
   "outputs": [
    {
     "name": "stdout",
     "output_type": "stream",
     "text": [
      "['C0030', 'C0133', 'C0236', 'C0339', 'C0442', 'C0545', 'C0648', 'C0751', 'C0854']\n"
     ]
    },
    {
     "data": {
      "text/plain": [
       "Text(0, 0.5, 'MLD (m)')"
      ]
     },
     "execution_count": 6,
     "metadata": {},
     "output_type": "execute_result"
    },
    {
     "data": {
      "image/png": "[encoded data removed]",
      "text/plain": [
       "<Figure size 432x288 with 1 Axes>"
      ]
     },
     "metadata": {
      "needs_background": "light"
     },
     "output_type": "display_data"
    }
   ],
   "source": [
    "clabelslst = list(clabels)\n",
    "clabelslst.sort()\n",
    "print(clabelslst)\n",
    "nc = len(clabelslst)\n",
    "xx = np.arange(nc)+1\n",
    "xxc = dict(zip(clabelslst, xx))\n",
    "for casename in prefix_list:\n",
    "    clabel = dat[casename]['clabel']\n",
    "    mlabel = dat[casename]['mlabel']\n",
    "    tlabel = dat[casename]['tlabel']\n",
    "    hlabel = dat[casename]['hlabel']\n",
    "    mld = dat[casename]['mldavg']\n",
    "    if mlabel == 'GLS-C01A':\n",
    "        mcolor = 'tab:red'\n",
    "        xshift = -0.1\n",
    "    elif mlabel == 'KPP-CVMix':\n",
    "        mcolor = 'tab:blue'\n",
    "        xshift = 0.1\n",
    "    plt.plot(xxc[clabel]+xshift, mld, '+', color=mcolor )\n",
    "    if tlabel == '0':\n",
    "        plt.plot(xxc[clabel]+xshift*3, mld, '+', color=mcolor )\n",
    "plt.plot(np.nan, np.nan, '+', color='tab:red', label='GLS-C01A')\n",
    "plt.plot(np.nan, np.nan, '+', color='tab:blue', label='KPP-CVMix')\n",
    "plt.legend(loc='lower left')\n",
    "plt.xticks(xx)\n",
    "plt.xlabel('Cases')\n",
    "plt.ylabel('MLD (m)')"
   ]
  },
  {
   "cell_type": "code",
   "execution_count": null,
   "id": "a195e1c9",
   "metadata": {},
   "outputs": [],
   "source": []
  }
 ],
 "metadata": {
  "kernelspec": {
   "display_name": "Python 3 (ipykernel)",
   "language": "python",
   "name": "python3"
  },
  "language_info": {
   "codemirror_mode": {
    "name": "ipython",
    "version": 3
   },
   "file_extension": ".py",
   "mimetype": "text/x-python",
   "name": "python",
   "nbconvert_exporter": "python",
   "pygments_lexer": "ipython3",
   "version": "3.9.7"
  }
 },
 "nbformat": 4,
 "nbformat_minor": 5
}
