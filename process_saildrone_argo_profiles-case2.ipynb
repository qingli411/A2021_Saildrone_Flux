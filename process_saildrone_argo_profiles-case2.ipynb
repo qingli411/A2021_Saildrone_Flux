{
 "cells": [
  {
   "cell_type": "code",
   "execution_count": 1,
   "id": "2936ba75",
   "metadata": {},
   "outputs": [],
   "source": [
    "import sys\n",
    "import os\n",
    "import numpy as np\n",
    "import scipy.io as sio\n",
    "import matplotlib.pyplot as plt\n",
    "import pandas as pd\n",
    "sys.path.append(\"../gotmtool\")\n",
    "from gotmtool import *"
   ]
  },
  {
   "cell_type": "code",
   "execution_count": 2,
   "id": "68af1503",
   "metadata": {},
   "outputs": [],
   "source": [
    "dataroot = '../case2'\n",
    "filename = 'SD_argo_Feb.mat'"
   ]
  },
  {
   "cell_type": "code",
   "execution_count": 3,
   "id": "bb0179a2",
   "metadata": {},
   "outputs": [],
   "source": [
    "dat = sio.loadmat(os.path.join(dataroot, filename))"
   ]
  },
  {
   "cell_type": "code",
   "execution_count": 4,
   "id": "3bef91b4",
   "metadata": {},
   "outputs": [
    {
     "data": {
      "text/plain": [
       "[Timestamp('2019-02-07 00:00:00')]"
      ]
     },
     "execution_count": 4,
     "metadata": {},
     "output_type": "execute_result"
    }
   ],
   "source": [
    "year = 2019\n",
    "doy = 38\n",
    "dttime_pfl = [pd.to_datetime(year*1000 + doy, format='%Y%j')]\n",
    "dttime_pfl"
   ]
  },
  {
   "cell_type": "code",
   "execution_count": 5,
   "id": "34a1ea35",
   "metadata": {},
   "outputs": [
    {
     "data": {
      "text/plain": [
       "array([[(array([[-53.25525   , -53.18731   , -53.12722   , -52.96056   ,\n",
       "                -52.71153   , -52.42475   , -52.57976   , -53.2618    ,\n",
       "                -53.078     , -52.04541   , -51.88612   , -52.969     ,\n",
       "                -52.73430698, -51.52584   , -51.26459   , -52.371     ,\n",
       "                -52.502     , -51.39454   , -52.14      , -52.241     ,\n",
       "                -51.945     , -52.05      , -51.727     , -51.832     ,\n",
       "                -51.575     , -51.644     , -51.407     , -51.494     ,\n",
       "                -51.254     , -51.327     , -51.135     , -51.189     ,\n",
       "                -51.042     , -51.091     , -51.91709   ]]), array([[-147.42546   , -147.27988   , -147.21478   , -147.14483   ,\n",
       "                -147.10628   , -147.04253   , -147.07332   , -145.45321   ,\n",
       "                -147.235     , -146.97149   , -146.8757    , -147.203     ,\n",
       "                -147.14972921, -146.55955   , -146.32334   , -147.105     ,\n",
       "                -147.097     , -146.43172   , -147.02      , -147.06      ,\n",
       "                -147.04      , -147.021     , -146.96      , -147.026     ,\n",
       "                -146.822     , -146.88      , -146.706     , -146.768     ,\n",
       "                -146.535     , -146.629     , -146.33      , -146.429     ,\n",
       "                -146.132     , -146.233     , -147.83378   ]]), array([[-1.15999997e+00, -1.12000000e+00, -1.36000001e+00, ...,\n",
       "                -2.25000000e+00, -4.03000021e+00, -1.00000000e+00],\n",
       "               [-2.00000000e+00, -2.00000000e+00, -2.00000000e+00, ...,\n",
       "                -3.95000005e+00, -5.92999983e+00, -2.00000000e+00],\n",
       "               [-2.96000004e+00, -3.00000000e+00, -3.00000000e+00, ...,\n",
       "                -5.94999981e+00, -7.92999983e+00, -3.00000000e+00],\n",
       "               ...,\n",
       "               [            nan,             nan,             nan, ...,\n",
       "                            nan,             nan, -1.98404004e+03],\n",
       "               [            nan,             nan,             nan, ...,\n",
       "                            nan,             nan, -1.98600000e+03],\n",
       "               [            nan,             nan,             nan, ...,\n",
       "                            nan,             nan, -1.98800000e+03]]), array([[ 9.66399956,  9.61999989,  9.61600018, ..., 10.87800026,\n",
       "                10.90999985, 10.85299969],\n",
       "               [ 9.66399956,  9.63000011,  9.61600018, ..., 10.87899971,\n",
       "                10.90999985, 10.85299969],\n",
       "               [ 9.66399956,  9.63399982,  9.61800003, ..., 10.88000011,\n",
       "                10.90999985, 10.85400009],\n",
       "               ...,\n",
       "               [        nan,         nan,         nan, ...,         nan,\n",
       "                        nan,  2.421     ],\n",
       "               [        nan,         nan,         nan, ...,         nan,\n",
       "                        nan,  2.421     ],\n",
       "               [        nan,         nan,         nan, ...,         nan,\n",
       "                        nan,  2.42000008]]), array([[34.47079849, 34.479599  , 34.47660065, ..., 34.47299957,\n",
       "                34.4620018 , 34.33440018],\n",
       "               [34.47079849, 34.47919846, 34.47660065, ..., 34.47299957,\n",
       "                34.4620018 , 34.33399963],\n",
       "               [34.47079849, 34.47880173, 34.47639847, ..., 34.47299957,\n",
       "                34.4620018 , 34.33420181],\n",
       "               ...,\n",
       "               [        nan,         nan,         nan, ...,         nan,\n",
       "                        nan, 34.63079834],\n",
       "               [        nan,         nan,         nan, ...,         nan,\n",
       "                        nan, 34.63079834],\n",
       "               [        nan,         nan,         nan, ...,         nan,\n",
       "                        nan, 34.63079834]]))                                                                                          ]],\n",
       "      dtype=[('lat', 'O'), ('lon', 'O'), ('pre', 'O'), ('temp', 'O'), ('sal', 'O')])"
      ]
     },
     "execution_count": 5,
     "metadata": {},
     "output_type": "execute_result"
    }
   ],
   "source": [
    "dat['SD_argo_Feb']"
   ]
  },
  {
   "cell_type": "code",
   "execution_count": 6,
   "id": "23ce388b",
   "metadata": {},
   "outputs": [],
   "source": [
    "lat  = dat['SD_argo_Feb'][0,0]['lat']\n",
    "lon  = dat['SD_argo_Feb'][0,0]['lon']\n",
    "pre  = dat['SD_argo_Feb'][0,0]['pre']\n",
    "temp = dat['SD_argo_Feb'][0,0]['temp']\n",
    "salt = dat['SD_argo_Feb'][0,0]['sal']"
   ]
  },
  {
   "cell_type": "code",
   "execution_count": 7,
   "id": "b8183c71",
   "metadata": {},
   "outputs": [
    {
     "data": {
      "text/plain": [
       "-53.25525"
      ]
     },
     "execution_count": 7,
     "metadata": {},
     "output_type": "execute_result"
    }
   ],
   "source": [
    "lat[0,0]"
   ]
  },
  {
   "cell_type": "code",
   "execution_count": 8,
   "id": "410313c5",
   "metadata": {},
   "outputs": [
    {
     "name": "stdout",
     "output_type": "stream",
     "text": [
      "(500,)\n",
      "(1, 500)\n",
      "(1, 500)\n"
     ]
    }
   ],
   "source": [
    "nzmax = 500\n",
    "idx = 3 # warm\n",
    "z1 = pre[:nzmax,idx].squeeze()\n",
    "t1 = temp[:nzmax,idx:idx+1].transpose()\n",
    "s1 = salt[:nzmax,idx:idx+1].transpose()\n",
    "print(z1.shape)\n",
    "print(t1.shape)\n",
    "print(s1.shape)\n",
    "dat_dump_pfl(dttime_pfl, z1, [t1], os.path.join(dataroot, 't_prof{}.dat'.format(idx+1)), skip_value=np.nan)\n",
    "dat_dump_pfl(dttime_pfl, z1, [s1], os.path.join(dataroot, 's_prof{}.dat'.format(idx+1)), skip_value=np.nan)"
   ]
  },
  {
   "cell_type": "code",
   "execution_count": 9,
   "id": "f3bc6e51",
   "metadata": {},
   "outputs": [
    {
     "name": "stdout",
     "output_type": "stream",
     "text": [
      "(500,)\n",
      "(1, 500)\n",
      "(1, 500)\n"
     ]
    }
   ],
   "source": [
    "nzmax = 500\n",
    "idx = 7 # cold\n",
    "z2 = pre[:nzmax,idx].squeeze()\n",
    "t2 = temp[:nzmax,idx:idx+1].transpose()\n",
    "s2 = salt[:nzmax,idx:idx+1].transpose()\n",
    "print(z2.shape)\n",
    "print(t2.shape)\n",
    "print(s2.shape)\n",
    "dat_dump_pfl(dttime_pfl, z2, [t2], os.path.join(dataroot, 't_prof{}.dat'.format(idx+1)), skip_value=np.nan)\n",
    "dat_dump_pfl(dttime_pfl, z2, [s2], os.path.join(dataroot, 's_prof{}.dat'.format(idx+1)), skip_value=np.nan)"
   ]
  },
  {
   "cell_type": "code",
   "execution_count": 10,
   "id": "ee4e0721",
   "metadata": {},
   "outputs": [
    {
     "data": {
      "text/plain": [
       "[<matplotlib.lines.Line2D at 0x11f821640>]"
      ]
     },
     "execution_count": 10,
     "metadata": {},
     "output_type": "execute_result"
    },
    {
     "data": {
      "image/png": "[encoded data removed]",
      "text/plain": [
       "<Figure size 432x288 with 1 Axes>"
      ]
     },
     "metadata": {
      "needs_background": "light"
     },
     "output_type": "display_data"
    }
   ],
   "source": [
    "plt.plot(t1.squeeze(), z1)\n",
    "plt.plot(t2.squeeze(), z2)"
   ]
  },
  {
   "cell_type": "code",
   "execution_count": 11,
   "id": "ba4dde42",
   "metadata": {},
   "outputs": [
    {
     "data": {
      "text/plain": [
       "[<matplotlib.lines.Line2D at 0x11f9210a0>]"
      ]
     },
     "execution_count": 11,
     "metadata": {},
     "output_type": "execute_result"
    },
    {
     "data": {
      "image/png": "[encoded data removed]",
      "text/plain": [
       "<Figure size 432x288 with 1 Axes>"
      ]
     },
     "metadata": {
      "needs_background": "light"
     },
     "output_type": "display_data"
    }
   ],
   "source": [
    "plt.plot(s1.squeeze(), z2)\n",
    "plt.plot(s2.squeeze(), z2)"
   ]
  },
  {
   "cell_type": "code",
   "execution_count": null,
   "id": "94b4db0e",
   "metadata": {},
   "outputs": [],
   "source": []
  }
 ],
 "metadata": {
  "kernelspec": {
   "display_name": "Python 3 (ipykernel)",
   "language": "python",
   "name": "python3"
  },
  "language_info": {
   "codemirror_mode": {
    "name": "ipython",
    "version": 3
   },
   "file_extension": ".py",
   "mimetype": "text/x-python",
   "name": "python",
   "nbconvert_exporter": "python",
   "pygments_lexer": "ipython3",
   "version": "3.9.7"
  }
 },
 "nbformat": 4,
 "nbformat_minor": 5
}
