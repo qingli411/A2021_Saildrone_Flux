{
 "cells": [
  {
   "cell_type": "code",
   "execution_count": 1,
   "id": "24bd71a9",
   "metadata": {},
   "outputs": [],
   "source": [
    "import os\n",
    "import numpy as np"
   ]
  },
  {
   "cell_type": "code",
   "execution_count": 2,
   "id": "a283b9a4",
   "metadata": {},
   "outputs": [],
   "source": [
    "casename = 'ERA5_plus_STD-2h'\n",
    "datadir = '/Volumes/WD02/SaildroneFlux/data'\n",
    "rundir = '/Volumes/WD02/SaildroneFlux/gotm/run/'+casename"
   ]
  },
  {
   "cell_type": "code",
   "execution_count": 3,
   "id": "805a351d",
   "metadata": {},
   "outputs": [],
   "source": [
    "# load list of cases\n",
    "with open(os.path.join(datadir, 'caselist.txt'), 'r') as f:\n",
    "    lines = f.readlines()\n",
    "caselist = [line.strip() for line in lines]"
   ]
  },
  {
   "cell_type": "code",
   "execution_count": 4,
   "id": "807a1f13",
   "metadata": {},
   "outputs": [],
   "source": [
    "nstd_hf  = [-3., -2., -1., 0., 1., 2., 3.]\n",
    "nstd_tau = [-3., -2., -1., 0., 1., 2., 3.]\n",
    "nstd_hf_label = ['{prefix}{val:d}'.format(prefix='p' if v > 0 else 'm' if v < 0 else '',\n",
    "                                          val=abs(int(v))) for v in nstd_hf]\n",
    "nstd_tau_label = ['{prefix}{val:d}'.format(prefix='p' if v > 0 else 'm' if v < 0 else '',\n",
    "                                           val=abs(int(v))) for v in nstd_tau]"
   ]
  },
  {
   "cell_type": "code",
   "execution_count": 5,
   "id": "3b3e38c3",
   "metadata": {},
   "outputs": [],
   "source": [
    "runlist = []\n",
    "ni = len(nstd_hf)\n",
    "nj = len(nstd_tau)\n",
    "for cname in caselist:\n",
    "    condition = np.zeros([ni,nj])\n",
    "    for i, ilabel in enumerate(nstd_hf_label):\n",
    "        for j, jlabel in enumerate(nstd_tau_label):\n",
    "            rlabel = '-'.join([cname, 'hf', ilabel, 'tau', jlabel])\n",
    "            rlabel1 = rlabel + '_GLS-C01A'\n",
    "            rlabel2 = rlabel + '_KPP-CVMix'\n",
    "            filename1 = os.path.join(rundir, rlabel1, 'gotm_out.nc')\n",
    "            filename2 = os.path.join(rundir, rlabel2, 'gotm_out.nc')\n",
    "            if not os.path.isfile(filename1) or not os.path.isfile(filename2):\n",
    "                condition[i,j] = 1\n",
    "    if np.sum(condition) > 0:\n",
    "        runlist.append(cname)"
   ]
  },
  {
   "cell_type": "code",
   "execution_count": 6,
   "id": "cb24ce55",
   "metadata": {},
   "outputs": [
    {
     "data": {
      "text/plain": [
       "0"
      ]
     },
     "execution_count": 6,
     "metadata": {},
     "output_type": "execute_result"
    }
   ],
   "source": [
    "len(runlist)"
   ]
  },
  {
   "cell_type": "code",
   "execution_count": 7,
   "id": "e016e782",
   "metadata": {},
   "outputs": [],
   "source": [
    "with open(os.path.join(datadir, 'caselist2.txt'), 'w') as f:\n",
    "    for cname in runlist:\n",
    "        f.write(cname+'\\n')"
   ]
  },
  {
   "cell_type": "code",
   "execution_count": null,
   "id": "17d85e4a",
   "metadata": {},
   "outputs": [],
   "source": []
  }
 ],
 "metadata": {
  "kernelspec": {
   "display_name": "Python 3 (ipykernel)",
   "language": "python",
   "name": "python3"
  },
  "language_info": {
   "codemirror_mode": {
    "name": "ipython",
    "version": 3
   },
   "file_extension": ".py",
   "mimetype": "text/x-python",
   "name": "python",
   "nbconvert_exporter": "python",
   "pygments_lexer": "ipython3",
   "version": "3.9.7"
  }
 },
 "nbformat": 4,
 "nbformat_minor": 5
}
