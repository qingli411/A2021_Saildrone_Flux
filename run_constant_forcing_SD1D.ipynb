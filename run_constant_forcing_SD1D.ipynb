{
 "cells": [
  {
   "cell_type": "code",
   "execution_count": 1,
   "metadata": {},
   "outputs": [],
   "source": [
    "import sys\n",
    "import copy\n",
    "import numpy as np\n",
    "import pandas as pd\n",
    "import matplotlib.pyplot as plt\n",
    "sys.path.append(\"../gotmtool\")\n",
    "from gotmtool import *"
   ]
  },
  {
   "cell_type": "markdown",
   "metadata": {},
   "source": [
    "## Create a model\n",
    "Create a model with environment file `../../.gotm_env.yaml`, which is created by `gotm_env_init.py`. "
   ]
  },
  {
   "cell_type": "code",
   "execution_count": 2,
   "metadata": {},
   "outputs": [],
   "source": [
    "m = Model(name='SD_1D', environ='../gotmtool/.gotm_env.yaml')"
   ]
  },
  {
   "cell_type": "markdown",
   "metadata": {},
   "source": [
    "Take a look at what are defined in the environment file."
   ]
  },
  {
   "cell_type": "code",
   "execution_count": 3,
   "metadata": {},
   "outputs": [
    {
     "name": "stdout",
     "output_type": "stream",
     "text": [
      "   gotmdir_code: /Users/qingli/work/saildrone_southern_ocean/gotm/code\n",
      "   gotmdir_data: /Users/qingli/work/saildrone_southern_ocean/gotm/data\n",
      "  gotmdir_build: /Users/qingli/work/saildrone_southern_ocean/gotm/build\n",
      "    gotmdir_exe: /Users/qingli/work/saildrone_southern_ocean/gotm/exe\n",
      "    gotmdir_run: /Users/qingli/work/saildrone_southern_ocean/gotm/run\n",
      " gotmdir_figure: /Users/qingli/work/saildrone_southern_ocean/gotm/figure\n",
      "   gotmdir_tool: /Users/qingli/work/saildrone_southern_ocean/gotmtool\n"
     ]
    }
   ],
   "source": [
    "for key in m.environ:\n",
    "    print('{:>15s}: {}'.format(key, m.environ[key]) )"
   ]
  },
  {
   "cell_type": "markdown",
   "metadata": {},
   "source": [
    "## Build the model"
   ]
  },
  {
   "cell_type": "code",
   "execution_count": 4,
   "metadata": {},
   "outputs": [
    {
     "name": "stdout",
     "output_type": "stream",
     "text": [
      "\u001b[94mWARNING: GOTM is updated. Skipping the build step. Use 'clean=True' to rebuild\u001b[0m\n",
      "CPU times: user 968 µs, sys: 6.81 ms, total: 7.77 ms\n",
      "Wall time: 88.7 ms\n"
     ]
    }
   ],
   "source": [
    "%%time\n",
    "m.build()"
   ]
  },
  {
   "cell_type": "markdown",
   "metadata": {},
   "source": [
    "## Configuration\n",
    "Initialize the GOTM configuration"
   ]
  },
  {
   "cell_type": "code",
   "execution_count": 6,
   "metadata": {},
   "outputs": [
    {
     "name": "stdout",
     "output_type": "stream",
     "text": [
      "loading configure file...\n"
     ]
    }
   ],
   "source": [
    "cfgfile = m.environ['gotmdir_run']+'/SD_1D/gotm.yaml'\n",
    "if os.path.exists(cfgfile):\n",
    "    print('loading configure file...')\n",
    "    cfg = yaml_load(filename=cfgfile)\n",
    "else:\n",
    "    cfg = m.init_config(filename=cfgfile)"
   ]
  },
  {
   "cell_type": "markdown",
   "metadata": {},
   "source": [
    "Update the configuration"
   ]
  },
  {
   "cell_type": "code",
   "execution_count": 7,
   "metadata": {},
   "outputs": [],
   "source": [
    "# setup\n",
    "title = 'Constant forcing'\n",
    "nlev = 400\n",
    "cfg['title'] = title\n",
    "cfg['location']['name'] = 'Idealized'\n",
    "cfg['location']['latitude'] = -55.\n",
    "cfg['location']['longitude'] = -145.\n",
    "cfg['location']['depth'] = 200\n",
    "cfg['time']['start'] = '2019-02-07 00:00:00'\n",
    "cfg['time']['stop']  = '2019-02-12 00:00:00'\n",
    "cfg['time']['dt']    = 60.0\n",
    "cfg['grid']['nlev']  = nlev\n",
    "\n",
    "# output\n",
    "cfg['output'] = {}\n",
    "cfg['output']['gotm_out'] = {}\n",
    "cfg['output']['gotm_out']['use'] = True\n",
    "cfg['output']['gotm_out']['title'] = title\n",
    "cfg['output']['gotm_out']['k1_stop'] = nlev+1\n",
    "cfg['output']['gotm_out']['k_stop'] = nlev\n",
    "cfg['output']['gotm_out']['time_unit'] = 'dt'\n",
    "cfg['output']['gotm_out']['time_step'] = 10\n",
    "cfg['output']['gotm_out']['variables'] = [{}]\n",
    "cfg['output']['gotm_out']['variables'][0]['source'] = '*'\n",
    "\n",
    "# forcing\n",
    "datadir = '/Users/qingli/work/saildrone_southern_ocean/SD_1D_cases'\n",
    "cfg['temperature']['method'] = 'file'\n",
    "cfg['salinity']['method'] = 'file'\n",
    "cfg['surface']['fluxes']['heat']['method'] = 'constant'\n",
    "cfg['surface']['fluxes']['tx']['method'] = 'constant'\n",
    "cfg['surface']['fluxes']['ty']['method'] = 'constant'\n",
    "cfg['surface']['fluxes']['ty']['constant_value'] = 0.0\n",
    "cfg['surface']['swr']['method'] = 'file'\n",
    "cfg['surface']['swr']['file'] = datadir+'/swr_era5.dat'\n",
    "cfg['surface']['precip']['method'] = 'constant'\n",
    "cfg['waves']['stokes_drift']['us']['method'] = 'off'\n",
    "cfg['waves']['stokes_drift']['vs']['method'] = 'off'\n",
    "\n",
    "# EOS -- use linear\n",
    "cfg['eq_state']['form'] = 'full-pot'\n",
    "\n",
    "# water type (Jerlov IB)\n",
    "cfg['light_extinction']['method'] = 'jerlov-ib'"
   ]
  },
  {
   "cell_type": "code",
   "execution_count": 8,
   "metadata": {},
   "outputs": [],
   "source": [
    "cfg['turbulence']['turb_method'] = 'second_order'\n",
    "cfg['turbulence']['tke_method'] = 'tke'\n",
    "cfg['turbulence']['len_scale_method'] = 'gls'\n",
    "cfg['turbulence']['scnd']['method'] =  'weak_eq_kb_eq'\n",
    "cfg['turbulence']['scnd']['scnd_coeff'] =  'canuto-a'\n",
    "cfg['turbulence']['turb_param']['length_lim'] = 'false'\n",
    "cfg['turbulence']['turb_param']['compute_c3'] = 'true'\n",
    "cfg['turbulence']['turb_param']['Ri_st'] = 0.25\n",
    "cfg['turbulence']['generic']['gen_m'] = 1.5 \n",
    "cfg['turbulence']['generic']['gen_n'] = -1.0\n",
    "cfg['turbulence']['generic']['gen_p'] = 3.0 \n",
    "cfg['turbulence']['generic']['cpsi1'] = 1.44\n",
    "cfg['turbulence']['generic']['cpsi2'] = 1.92\n",
    "cfg['turbulence']['generic']['cpsi3minus'] = -0.63\n",
    "cfg['turbulence']['generic']['cpsi3plus'] = 1.0 \n",
    "cfg['turbulence']['generic']['sig_kpsi'] = 1.0 \n",
    "cfg['turbulence']['generic']['sig_psi'] = 1.3"
   ]
  },
  {
   "cell_type": "code",
   "execution_count": 9,
   "metadata": {},
   "outputs": [],
   "source": [
    "# collect the configurations and the labels of the two runs\n",
    "cfgs = []\n",
    "labels = []"
   ]
  },
  {
   "cell_type": "code",
   "execution_count": 10,
   "metadata": {},
   "outputs": [
    {
     "name": "stdout",
     "output_type": "stream",
     "text": [
      "C1_ref\n",
      "C1_pos\n",
      "C1_neg\n",
      "C4_ref\n",
      "C4_pos\n",
      "C4_neg\n",
      "C5_ref\n",
      "C5_pos\n",
      "C5_neg\n",
      "C6_ref\n",
      "C6_pos\n",
      "C6_neg\n",
      "C7_ref\n",
      "C7_pos\n",
      "C7_neg\n",
      "C8_ref\n",
      "C8_pos\n",
      "C8_neg\n",
      "P1_ref\n",
      "P1_pos\n",
      "P1_neg\n",
      "P2_ref\n",
      "P2_pos\n",
      "P2_neg\n",
      "P3_ref\n",
      "P3_pos\n",
      "P3_neg\n",
      "P4_ref\n",
      "P4_pos\n",
      "P4_neg\n",
      "P5_ref\n",
      "P5_pos\n",
      "P5_neg\n",
      "P6_ref\n",
      "P6_pos\n",
      "P6_neg\n",
      "P7_ref\n",
      "P7_pos\n",
      "P7_neg\n",
      "P8_ref\n",
      "P8_pos\n",
      "P8_neg\n"
     ]
    }
   ],
   "source": [
    "hfpmin = {\n",
    "    'C1': -25.3,\n",
    "    'C4': -3.0,\n",
    "    'C5': -7.8,\n",
    "    'C6': -9.0,\n",
    "    'C7': -8.6,\n",
    "    'C8': -9.0,\n",
    "    'P1': -42.9,\n",
    "    'P2': -104.6,\n",
    "    'P3': -49.6,\n",
    "    'P4': -36.4,\n",
    "    'P5': -20.9,\n",
    "    'P6': -18.1,\n",
    "    'P7': -15.5,\n",
    "    'P8': -55.7,\n",
    "    }\n",
    "hfpmax = {\n",
    "    'C1': 16.7,\n",
    "    'C4': 3.4,\n",
    "    'C5': 8.8,\n",
    "    'C6': 9.3,\n",
    "    'C7': 8.3,\n",
    "    'C8': 6.1,\n",
    "    'P1': 29.7,\n",
    "    'P2': 55.6,\n",
    "    'P3': 44.4,\n",
    "    'P4': 40.8,\n",
    "    'P5': 23.2,\n",
    "    'P6': 16.8,\n",
    "    'P7': 14.5,\n",
    "    'P8': 55.8,\n",
    "    }\n",
    "hfref = {\n",
    "    'C1': -68.9,\n",
    "    'C4': -26.2,\n",
    "    'C5': -56.4,\n",
    "    'C6': -47.1,\n",
    "    'C7': -109.0,\n",
    "    'C8': -45.7,\n",
    "    'P1': -113.2,\n",
    "    'P2': -209.1,\n",
    "    'P3': -218.2,\n",
    "    'P4': -170.8,\n",
    "    'P5': -134.3,\n",
    "    'P6': -73.9,\n",
    "    'P7': -30.9,\n",
    "    'P8': -210.8,\n",
    "    }\n",
    "taudat = {\n",
    "    'C1': 0.2,\n",
    "    'C4': 0.07,\n",
    "    'C5': 0.07,\n",
    "    'C6': 0.08,\n",
    "    'C7': 0.03,\n",
    "    'C8': 0.26,\n",
    "    'P1': 0.49,\n",
    "    'P2': 0.18,\n",
    "    'P3': 0.45,\n",
    "    'P4': 0.4,\n",
    "    'P5': 0.22,\n",
    "    'P6': 0.14,\n",
    "    'P7': 0.13,\n",
    "    'P8': 0.53,\n",
    "    }\n",
    "argo_dates = {\n",
    "    'C1': 33,\n",
    "    'C4': 47,\n",
    "    'C5': 52,\n",
    "    'C6': 55,\n",
    "    'C7': 62,\n",
    "    'C8': 69,\n",
    "    'P1': 34,\n",
    "    'P2': 36,\n",
    "    'P3': 40,\n",
    "    'P4': 41,\n",
    "    'P5': 43,\n",
    "    'P6': 52,\n",
    "    'P7': 54,\n",
    "    'P8': 58,\n",
    "    }\n",
    "year = 2019\n",
    "startdates = {}\n",
    "stopdates = {}\n",
    "for key in argo_dates.keys():\n",
    "    dttime_start = pd.to_datetime(year*1000 + argo_dates[key], format='%Y%j')\n",
    "    startdates[key] = dttime_start.strftime('%Y-%m-%d %H:%M:%S')\n",
    "    dttime_stop = pd.to_datetime(year*1000 + argo_dates[key]+5, format='%Y%j')\n",
    "    stopdates[key] = dttime_stop.strftime('%Y-%m-%d %H:%M:%S')\n",
    "hfdat = {}\n",
    "for key in hfref.keys():\n",
    "    hfdat[key] = [hfref[key], hfref[key]+hfpmax[key], hfref[key]+hfpmin[key]]\n",
    "clabels = ['ref', 'pos', 'neg']\n",
    "\n",
    "for key in hfref.keys():\n",
    "    for i, ckey in enumerate(clabels):\n",
    "        rlabel = '_'.join([key, ckey])\n",
    "        print(rlabel)\n",
    "        cfg['time']['start'] = startdates[key]\n",
    "        cfg['time']['stop']  = stopdates[key]\n",
    "        cfg['turbulence']['turb_method'] = 'second_order' \n",
    "        cfg['temperature']['file'] = datadir+'/t_prof_{}.dat'.format(key)\n",
    "        cfg['salinity']['file'] = datadir+'/s_prof_{}.dat'.format(key)\n",
    "        cfg['surface']['fluxes']['heat']['constant_value'] = hfdat[key][i]\n",
    "        cfg['surface']['fluxes']['tx']['constant_value'] = taudat[key]\n",
    "        cfgs.append(copy.deepcopy(cfg))\n",
    "        labels.append(rlabel+'_GLS-C01A')\n",
    "        cfg['turbulence']['turb_method'] = 'cvmix'\n",
    "        cfg['cvmix']['surface_layer']['kpp']['langmuir_method'] = 'none'\n",
    "        cfgs.append(copy.deepcopy(cfg))\n",
    "        labels.append(rlabel+'_KPP-CVMix')"
   ]
  },
  {
   "cell_type": "markdown",
   "metadata": {},
   "source": [
    "## Run the model"
   ]
  },
  {
   "cell_type": "code",
   "execution_count": 11,
   "metadata": {},
   "outputs": [
    {
     "name": "stdout",
     "output_type": "stream",
     "text": [
      "CPU times: user 89.9 ms, sys: 40.8 ms, total: 131 ms\n",
      "Wall time: 23.8 s\n"
     ]
    }
   ],
   "source": [
    "%%time\n",
    "sims = m.run_batch(configs=cfgs, labels=labels, nproc=4)"
   ]
  },
  {
   "cell_type": "code",
   "execution_count": null,
   "metadata": {},
   "outputs": [],
   "source": []
  }
 ],
 "metadata": {
  "kernelspec": {
   "display_name": "Python 3 (ipykernel)",
   "language": "python",
   "name": "python3"
  },
  "language_info": {
   "codemirror_mode": {
    "name": "ipython",
    "version": 3
   },
   "file_extension": ".py",
   "mimetype": "text/x-python",
   "name": "python",
   "nbconvert_exporter": "python",
   "pygments_lexer": "ipython3",
   "version": "3.9.7"
  }
 },
 "nbformat": 4,
 "nbformat_minor": 4
}
