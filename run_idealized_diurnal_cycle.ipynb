{
 "cells": [
  {
   "cell_type": "markdown",
   "metadata": {},
   "source": [
    "# Idealized diurnal cycle\n",
    "\n",
    "This notebook runs [GOTM](https://gotm.net/) with idealized diurnal heating, where the solar radiation $F_s$ is\n",
    "$$\n",
    "F_s(t) = F_0 \\max\\left\\{\\cos\\left[2\\pi\\left(\\frac{t}{86400}-0.5\\right)\\right], 0\\right\\},\n",
    "$$\n",
    "where $F_0$ is the maximum solar radiation (W m$^{-2}$) at noon and $t$ is the time of a day (s)."
   ]
  },
  {
   "cell_type": "code",
   "execution_count": 1,
   "metadata": {},
   "outputs": [],
   "source": [
    "import sys\n",
    "import copy\n",
    "import numpy as np\n",
    "import pandas as pd\n",
    "import matplotlib.pyplot as plt\n",
    "sys.path.append(\"../gotmtool\")\n",
    "from gotmtool import *"
   ]
  },
  {
   "cell_type": "code",
   "execution_count": 2,
   "metadata": {},
   "outputs": [],
   "source": [
    "def diurnal_cycle_factor(time):\n",
    "    \"\"\"Get the factor of an idealized diurnal cycle (0, 1) following\n",
    "       f = max(cos(2*pi(t-0.5)), 0.)\n",
    "\n",
    "    :time:   (datetime like) time\n",
    "    :return: (numpy.array) diurnal cycle factor\n",
    "\n",
    "    \"\"\"\n",
    "    tod = (3600.*time.hour+60.*time.minute+time.second)/86400.\n",
    "    return np.maximum(np.cos(2.*np.pi*(tod-0.5)), 0.0)"
   ]
  },
  {
   "cell_type": "markdown",
   "metadata": {},
   "source": [
    "## Create a model\n",
    "Create a model with environment file `../../.gotm_env.yaml`, which is created by `gotm_env_init.py`. "
   ]
  },
  {
   "cell_type": "code",
   "execution_count": 3,
   "metadata": {},
   "outputs": [],
   "source": [
    "m = Model(name='Idealized_diurnal_cycle', environ='../gotmtool/.gotm_env.yaml')"
   ]
  },
  {
   "cell_type": "markdown",
   "metadata": {},
   "source": [
    "Take a look at what are defined in the environment file."
   ]
  },
  {
   "cell_type": "code",
   "execution_count": 4,
   "metadata": {},
   "outputs": [
    {
     "name": "stdout",
     "output_type": "stream",
     "text": [
      "   gotmdir_code: /Users/qingli/work/saildrone_southern_ocean/gotm/code\n",
      "   gotmdir_data: /Users/qingli/work/saildrone_southern_ocean/gotm/data\n",
      "  gotmdir_build: /Users/qingli/work/saildrone_southern_ocean/gotm/build\n",
      "    gotmdir_exe: /Users/qingli/work/saildrone_southern_ocean/gotm/exe\n",
      "    gotmdir_run: /Users/qingli/work/saildrone_southern_ocean/gotm/run\n",
      " gotmdir_figure: /Users/qingli/work/saildrone_southern_ocean/gotm/figure\n",
      "   gotmdir_tool: /Users/qingli/work/saildrone_southern_ocean/gotmtool\n"
     ]
    }
   ],
   "source": [
    "for key in m.environ:\n",
    "    print('{:>15s}: {}'.format(key, m.environ[key]) )"
   ]
  },
  {
   "cell_type": "markdown",
   "metadata": {},
   "source": [
    "## Build the model"
   ]
  },
  {
   "cell_type": "code",
   "execution_count": 5,
   "metadata": {},
   "outputs": [
    {
     "name": "stdout",
     "output_type": "stream",
     "text": [
      "\u001b[94mWARNING: GOTM is updated. Skipping the build step. Use 'clean=True' to rebuild\u001b[0m\n",
      "CPU times: user 4.18 ms, sys: 13.4 ms, total: 17.6 ms\n",
      "Wall time: 122 ms\n"
     ]
    }
   ],
   "source": [
    "%%time\n",
    "m.build()"
   ]
  },
  {
   "cell_type": "markdown",
   "metadata": {},
   "source": [
    "## Configuration\n",
    "Initialize the GOTM configuration"
   ]
  },
  {
   "cell_type": "code",
   "execution_count": 6,
   "metadata": {},
   "outputs": [
    {
     "name": "stdout",
     "output_type": "stream",
     "text": [
      "Generating default configuration at '/Users/qingli/work/saildrone_southern_ocean/gotm/run/Idealized_diurnal_cycle/gotm.yaml'...\n",
      "\u001b[92mDone!\u001b[0m\n"
     ]
    },
    {
     "name": "stderr",
     "output_type": "stream",
     "text": [
      " ------------------------------------------------------------------------\n",
      " GOTM started on 2021/09/06 at 19:25:59\n",
      " ------------------------------------------------------------------------\n",
      "    initialize_gotm\n",
      " ------------------------------------------------------------------------\n",
      "        Reading configuration from: gotm.yaml\n",
      "        configuring modules ....\n",
      "    init_airsea_yaml\n",
      "        done\n",
      "    init_observations_yaml\n",
      "    init_stokes_drift_yaml\n",
      "        done\n",
      "    init_turbulence_yaml\n",
      "        done.\n",
      "    init_cvmix_yaml\n",
      "        done.\n",
      "    init_meanflow_yaml\n",
      "        done\n",
      "    init_eqstate_yaml\n",
      "        done.\n",
      " Your configuration has been written to /Users/qingli/work/saildrone_southern_ocean/gotm/run/Idealized_diurnal_cycle/gotm.yaml.\n",
      "STOP 0\n"
     ]
    }
   ],
   "source": [
    "cfg = m.init_config()"
   ]
  },
  {
   "cell_type": "markdown",
   "metadata": {},
   "source": [
    "Update the configuration"
   ]
  },
  {
   "cell_type": "code",
   "execution_count": 7,
   "metadata": {},
   "outputs": [],
   "source": [
    "# setup\n",
    "title = 'Idealized diurnal cycle'\n",
    "nlev = 300\n",
    "cfg['title'] = title\n",
    "cfg['location']['name'] = 'Idealized'\n",
    "cfg['location']['latitude'] = 45.0\n",
    "cfg['location']['longitude'] = 0.0\n",
    "cfg['location']['depth'] = 300\n",
    "cfg['time']['start'] = '2019-02-09 00:00:00'\n",
    "cfg['time']['stop']  = '2019-02-11 00:00:00'\n",
    "cfg['time']['dt']    = 600.0\n",
    "cfg['grid']['nlev']  = nlev\n",
    "\n",
    "# output\n",
    "cfg['output'] = {}\n",
    "cfg['output']['gotm_out'] = {}\n",
    "cfg['output']['gotm_out']['use'] = True\n",
    "cfg['output']['gotm_out']['title'] = title\n",
    "cfg['output']['gotm_out']['k1_stop'] = nlev+1\n",
    "cfg['output']['gotm_out']['k_stop'] = nlev\n",
    "cfg['output']['gotm_out']['time_unit'] = 'dt'\n",
    "cfg['output']['gotm_out']['time_step'] = 3\n",
    "cfg['output']['gotm_out']['variables'] = [{}]\n",
    "cfg['output']['gotm_out']['variables'][0]['source'] = '*'\n",
    "\n",
    "# forcing\n",
    "datadir = os.getcwd()\n",
    "cfg['temperature']['method'] = 'file'\n",
    "cfg['temperature']['file'] = datadir+'/t_prof.dat'\n",
    "cfg['salinity']['method'] = 'file'\n",
    "cfg['salinity']['file'] = datadir+'/s_prof.dat'\n",
    "cfg['surface']['fluxes']['heat']['method'] = 'constant'\n",
    "cfg['surface']['fluxes']['heat']['constant_value'] = -159.15\n",
    "cfg['surface']['fluxes']['tx']['method'] = 'constant'\n",
    "cfg['surface']['fluxes']['tx']['constant_value'] = 0.1\n",
    "cfg['surface']['fluxes']['ty']['method'] = 'constant'\n",
    "cfg['surface']['fluxes']['ty']['constant_value'] = 0.0\n",
    "cfg['surface']['swr']['method'] = 'file'\n",
    "cfg['surface']['swr']['file'] = 'swr.dat'\n",
    "cfg['surface']['precip']['method'] = 'constant'\n",
    "cfg['waves']['stokes_drift']['us']['method'] = 'off'\n",
    "cfg['waves']['stokes_drift']['vs']['method'] = 'off'\n",
    "\n",
    "# EOS -- use linear\n",
    "cfg['eq_state']['form'] = 'linear_custom'\n",
    "cfg['eq_state']['linear']['T0'] = 20.0\n",
    "cfg['eq_state']['linear']['S0'] = 35.0\n",
    "cfg['eq_state']['linear']['dtr0'] = -0.2\n",
    "cfg['eq_state']['linear']['dsr0'] = 0.8\n",
    "cfg['physical_constants']['rho_0'] = 1000.0\n",
    "\n",
    "# water type (Jerlov IB)\n",
    "cfg['light_extinction']['method'] = 'jerlov-ib'"
   ]
  },
  {
   "cell_type": "code",
   "execution_count": 8,
   "metadata": {},
   "outputs": [],
   "source": [
    "# solar radiation\n",
    "F0 = 500.\n",
    "time = pd.date_range(cfg['time']['start'], cfg['time']['stop'], freq='30min')\n",
    "factor = diurnal_cycle_factor(time)\n",
    "swr = F0*factor"
   ]
  },
  {
   "cell_type": "markdown",
   "metadata": {},
   "source": [
    "We want to run the case using two turbulence closure methods:\n",
    "- The generic length scale (GLS; [Umlauf and Burchard, 2003](https://doi.org/10.1357/002224003322005087)) model in the $k$-$\\epsilon$ formulation with the weak-equilibrium stability function by [Canuto et al., 2001](https://doi.org/10.1175/1520-0485(2001)031%3C1413:OTPIOP%3E2.0.CO;2) (C01A).\n",
    "- The K-profile parameterization (KPP; [Large et al., 1994](https://doi.org/10.1029/94RG01872), [Griffies et al., 2015](https://github.com/CVMix/CVMix-description/raw/master/cvmix.pdf)) with [CVMix](http://cvmix.github.io).\n"
   ]
  },
  {
   "cell_type": "code",
   "execution_count": 9,
   "metadata": {},
   "outputs": [],
   "source": [
    "# collect the configurations and the labels of the two runs\n",
    "cfgs = []\n",
    "labels = []"
   ]
  },
  {
   "cell_type": "code",
   "execution_count": 10,
   "metadata": {},
   "outputs": [],
   "source": [
    "cfg['turbulence']['turb_method'] = 'second_order'\n",
    "cfg['turbulence']['tke_method'] = 'tke'\n",
    "cfg['turbulence']['len_scale_method'] = 'gls'\n",
    "cfg['turbulence']['scnd']['method'] =  'weak_eq_kb_eq'\n",
    "cfg['turbulence']['scnd']['scnd_coeff'] =  'canuto-a'\n",
    "cfg['turbulence']['turb_param']['length_lim'] = 'false'\n",
    "cfg['turbulence']['turb_param']['compute_c3'] = 'true'\n",
    "cfg['turbulence']['turb_param']['Ri_st'] = 0.25\n",
    "cfg['turbulence']['generic']['gen_m'] = 1.5 \n",
    "cfg['turbulence']['generic']['gen_n'] = -1.0\n",
    "cfg['turbulence']['generic']['gen_p'] = 3.0 \n",
    "cfg['turbulence']['generic']['cpsi1'] = 1.44\n",
    "cfg['turbulence']['generic']['cpsi2'] = 1.92\n",
    "cfg['turbulence']['generic']['cpsi3minus'] = -0.63\n",
    "cfg['turbulence']['generic']['cpsi3plus'] = 1.0 \n",
    "cfg['turbulence']['generic']['sig_kpsi'] = 1.0 \n",
    "cfg['turbulence']['generic']['sig_psi'] = 1.3\n",
    "cfgs.append(copy.deepcopy(cfg))\n",
    "labels.append('GLS-C01A')"
   ]
  },
  {
   "cell_type": "code",
   "execution_count": 11,
   "metadata": {},
   "outputs": [],
   "source": [
    "cfg['turbulence']['turb_method'] = 'cvmix'\n",
    "cfg['cvmix']['surface_layer']['kpp']['langmuir_method'] = 'none'\n",
    "cfgs.append(copy.deepcopy(cfg))\n",
    "labels.append('KPP-CVMix')"
   ]
  },
  {
   "cell_type": "code",
   "execution_count": 12,
   "metadata": {},
   "outputs": [],
   "source": [
    "# save solar radiation file\n",
    "for lb in labels:\n",
    "    run_dir = m.environ['gotmdir_run']+'/'+m.name+'/'+lb\n",
    "    os.makedirs(run_dir, exist_ok=True)\n",
    "    dat_dump_ts(time, [swr], run_dir+'/swr.dat')"
   ]
  },
  {
   "cell_type": "markdown",
   "metadata": {},
   "source": [
    "## Run the model"
   ]
  },
  {
   "cell_type": "code",
   "execution_count": 13,
   "metadata": {},
   "outputs": [
    {
     "name": "stdout",
     "output_type": "stream",
     "text": [
      "CPU times: user 16.3 ms, sys: 23.3 ms, total: 39.6 ms\n",
      "Wall time: 862 ms\n"
     ]
    }
   ],
   "source": [
    "%%time\n",
    "sims = m.run_batch(configs=cfgs, labels=labels, nproc=2)"
   ]
  },
  {
   "cell_type": "markdown",
   "metadata": {},
   "source": [
    "## Results\n",
    "\n",
    "Load the data into an `xarray.Dataset`."
   ]
  },
  {
   "cell_type": "code",
   "execution_count": 20,
   "metadata": {},
   "outputs": [
    {
     "data": {
      "text/plain": [
       "(-100.0, 0.0)"
      ]
     },
     "execution_count": 20,
     "metadata": {},
     "output_type": "execute_result"
    },
    {
     "data": {
      "image/png": "[encoded data removed]",
      "text/plain": [
       "<Figure size 576x576 with 4 Axes>"
      ]
     },
     "metadata": {
      "needs_background": "light"
     },
     "output_type": "display_data"
    }
   ],
   "source": [
    "fig, axarr = plt.subplots(2, sharex='col')\n",
    "fig.set_size_inches(8, 8)\n",
    "data0 = sims[0].load_data()\n",
    "levels = np.linspace(6.7, 7.5, 41)\n",
    "# levels = None\n",
    "data0.temp.plot(ax=axarr[0], levels=levels)\n",
    "axarr[0].set_title(labels[0])\n",
    "axarr[0].set_ylim([-100, 0])\n",
    "data1 = sims[1].load_data()\n",
    "data1.temp.plot(ax=axarr[1], levels=levels)\n",
    "axarr[1].set_title(labels[1])\n",
    "axarr[1].set_ylim([-100, 0])"
   ]
  },
  {
   "cell_type": "code",
   "execution_count": null,
   "metadata": {},
   "outputs": [],
   "source": []
  }
 ],
 "metadata": {
  "kernelspec": {
   "display_name": "Python 3 (ipykernel)",
   "language": "python",
   "name": "python3"
  },
  "language_info": {
   "codemirror_mode": {
    "name": "ipython",
    "version": 3
   },
   "file_extension": ".py",
   "mimetype": "text/x-python",
   "name": "python",
   "nbconvert_exporter": "python",
   "pygments_lexer": "ipython3",
   "version": "3.9.6"
  }
 },
 "nbformat": 4,
 "nbformat_minor": 4
}
