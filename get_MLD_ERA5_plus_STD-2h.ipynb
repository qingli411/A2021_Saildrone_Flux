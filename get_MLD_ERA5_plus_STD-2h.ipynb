{
 "cells": [
  {
   "cell_type": "code",
   "execution_count": 1,
   "id": "dc101ca1",
   "metadata": {},
   "outputs": [],
   "source": [
    "import os\n",
    "import sys\n",
    "import numpy as np\n",
    "import matplotlib.pyplot as plt\n",
    "# add the path of gotmtool\n",
    "sys.path.append(\"../gotmtool\")\n",
    "from gotmtool import *\n",
    "from gotmtool.diags import *"
   ]
  },
  {
   "cell_type": "code",
   "execution_count": 2,
   "id": "fbd23d49",
   "metadata": {},
   "outputs": [],
   "source": [
    "# set gotm\n",
    "# gotm_root = '/Volumes/WD02/SaildroneFlux/gotm/run/ERA5_plus_STD-2h'\n",
    "gotm_root = os.environ['HOME']+'/scratch/saildrone_southern_ocean/gotm/run/ERA5_plus_STD-2h'\n",
    "prefix_list = [filename for filename in os.listdir(gotm_root) if filename.startswith('C')]\n",
    "filename = 'gotm_out.nc'"
   ]
  },
  {
   "cell_type": "code",
   "execution_count": 3,
   "id": "ad0accce",
   "metadata": {},
   "outputs": [
    {
     "name": "stdout",
     "output_type": "stream",
     "text": [
      "  0 %\n",
      "  5 %\n",
      " 10 %\n",
      " 15 %\n",
      " 20 %\n",
      " 25 %\n",
      " 30 %\n",
      " 35 %\n",
      " 40 %\n",
      " 45 %\n",
      " 50 %\n",
      " 55 %\n",
      " 60 %\n",
      " 65 %\n",
      " 70 %\n",
      " 75 %\n",
      " 80 %\n",
      " 85 %\n",
      " 90 %\n",
      " 95 %\n",
      "100 %\n"
     ]
    }
   ],
   "source": [
    "tidx = -24 # last day for hourly output\n",
    "dat = {}\n",
    "clabels = set()\n",
    "mlabels = set()\n",
    "hlabels = set()\n",
    "tlabels = set()\n",
    "ncases = len(prefix_list)\n",
    "for i, casename in enumerate(prefix_list):\n",
    "    if i%int(ncases/20) == 0:\n",
    "        print('{:3d} %'.format(round(i/ncases*100)))\n",
    "#     print(casename)\n",
    "    casestring, mlabel = casename.split('_')\n",
    "    clabel, _, hlabel, _, tlabel = casestring.split('-')\n",
    "    sim = Simulation(path=gotm_root+'/'+casename)\n",
    "    dataset = sim.load_data()\n",
    "    heatflux = dataset.data_vars['heat'][0,0,0].values\n",
    "    tau = dataset.data_vars['tx'][0,0,0].values\n",
    "    rho = dataset.data_vars['rho'][:,:,0,0]\n",
    "    time = dataset.time\n",
    "    mld = -get_mld_deltaR(rho)\n",
    "    mldavg = mld[tidx:].mean().values\n",
    "    tmp = {\n",
    "        'clabel': clabel,\n",
    "        'hlabel': hlabel,\n",
    "        'tlabel': tlabel,\n",
    "        'mlabel': mlabel,\n",
    "        'heat':   float(heatflux),\n",
    "        'tau':    float(tau),\n",
    "        'mldavg': float(mldavg),\n",
    "        }\n",
    "    dat[casename] = tmp\n",
    "    clabels.add(clabel)\n",
    "    mlabels.add(mlabel)\n",
    "    hlabels.add(hlabel)\n",
    "    tlabels.add(tlabel)"
   ]
  },
  {
   "cell_type": "code",
   "execution_count": 7,
   "id": "2002d373",
   "metadata": {},
   "outputs": [],
   "source": [
    "import pickle\n",
    "pkl_file = 'mld.pkl'\n",
    "with open(pkl_file, 'wb') as pklfile:\n",
    "    pickle.dump(dat, pklfile)"
   ]
  },
  {
   "cell_type": "code",
   "execution_count": 8,
   "id": "a195e1c9",
   "metadata": {},
   "outputs": [],
   "source": [
    "import csv\n",
    "csv_columns = ['clabel', 'hlabel', 'tlabel', 'mlabel', 'heat', 'tau', 'mldavg']\n",
    "csv_file = 'mld.csv'\n",
    "\n",
    "with open(csv_file, 'w') as csvfile:\n",
    "    writer = csv.DictWriter(csvfile, fieldnames=csv_columns)\n",
    "    writer.writeheader()\n",
    "    for key in dat.keys():\n",
    "        writer.writerow(dat[key])"
   ]
  },
  {
   "cell_type": "code",
   "execution_count": null,
   "id": "7cb6ed6b",
   "metadata": {},
   "outputs": [],
   "source": []
  }
 ],
 "metadata": {
  "kernelspec": {
   "display_name": "Python 3 (ipykernel)",
   "language": "python",
   "name": "python3"
  },
  "language_info": {
   "codemirror_mode": {
    "name": "ipython",
    "version": 3
   },
   "file_extension": ".py",
   "mimetype": "text/x-python",
   "name": "python",
   "nbconvert_exporter": "python",
   "pygments_lexer": "ipython3",
   "version": "3.9.7"
  }
 },
 "nbformat": 4,
 "nbformat_minor": 5
}
