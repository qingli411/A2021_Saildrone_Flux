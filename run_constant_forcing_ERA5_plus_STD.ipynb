{
 "cells": [
  {
   "cell_type": "code",
   "execution_count": 1,
   "metadata": {},
   "outputs": [],
   "source": [
    "import os\n",
    "import sys\n",
    "import copy\n",
    "import numpy as np\n",
    "import pandas as pd\n",
    "import matplotlib.pyplot as plt\n",
    "sys.path.append(\"../gotmtool\")\n",
    "from gotmtool import *"
   ]
  },
  {
   "cell_type": "markdown",
   "metadata": {},
   "source": [
    "## Create a model\n",
    "Create a model with environment file `../../.gotm_env.yaml`, which is created by `gotm_env_init.py`. "
   ]
  },
  {
   "cell_type": "code",
   "execution_count": 2,
   "metadata": {},
   "outputs": [],
   "source": [
    "casename = 'ERA5_plus_STD'\n",
    "datadir = '/Users/qingli/work/saildrone_southern_ocean/'+casename\n",
    "m = Model(name=casename, environ='../gotmtool/.gotm_env.yaml')"
   ]
  },
  {
   "cell_type": "markdown",
   "metadata": {},
   "source": [
    "Take a look at what are defined in the environment file."
   ]
  },
  {
   "cell_type": "code",
   "execution_count": 3,
   "metadata": {},
   "outputs": [
    {
     "name": "stdout",
     "output_type": "stream",
     "text": [
      "   gotmdir_code: /Users/qingli/work/saildrone_southern_ocean/gotm/code\n",
      "   gotmdir_data: /Users/qingli/work/saildrone_southern_ocean/gotm/data\n",
      "  gotmdir_build: /Users/qingli/work/saildrone_southern_ocean/gotm/build\n",
      "    gotmdir_exe: /Users/qingli/work/saildrone_southern_ocean/gotm/exe\n",
      "    gotmdir_run: /Users/qingli/work/saildrone_southern_ocean/gotm/run\n",
      " gotmdir_figure: /Users/qingli/work/saildrone_southern_ocean/gotm/figure\n",
      "   gotmdir_tool: /Users/qingli/work/saildrone_southern_ocean/gotmtool\n"
     ]
    }
   ],
   "source": [
    "for key in m.environ:\n",
    "    print('{:>15s}: {}'.format(key, m.environ[key]) )"
   ]
  },
  {
   "cell_type": "markdown",
   "metadata": {},
   "source": [
    "## Build the model"
   ]
  },
  {
   "cell_type": "code",
   "execution_count": 4,
   "metadata": {},
   "outputs": [
    {
     "name": "stdout",
     "output_type": "stream",
     "text": [
      "\u001b[94mWARNING: GOTM is updated. Skipping the build step. Use 'clean=True' to rebuild\u001b[0m\n",
      "CPU times: user 897 µs, sys: 6.44 ms, total: 7.34 ms\n",
      "Wall time: 80.5 ms\n"
     ]
    }
   ],
   "source": [
    "%%time\n",
    "m.build()"
   ]
  },
  {
   "cell_type": "markdown",
   "metadata": {},
   "source": [
    "## Configuration\n",
    "Initialize the GOTM configuration"
   ]
  },
  {
   "cell_type": "code",
   "execution_count": 5,
   "metadata": {},
   "outputs": [
    {
     "name": "stdout",
     "output_type": "stream",
     "text": [
      "loading configure file...\n"
     ]
    }
   ],
   "source": [
    "cfgfile = m.environ['gotmdir_run']+'/'+casename+'/gotm.yaml'\n",
    "if os.path.exists(cfgfile):\n",
    "    print('loading configure file...')\n",
    "    cfg = yaml_load(filename=cfgfile)\n",
    "else:\n",
    "    cfg = m.init_config(filename=cfgfile)"
   ]
  },
  {
   "cell_type": "markdown",
   "metadata": {},
   "source": [
    "Update the configuration"
   ]
  },
  {
   "cell_type": "code",
   "execution_count": 6,
   "metadata": {},
   "outputs": [],
   "source": [
    "# setup\n",
    "title = 'Constant forcing'\n",
    "nlev = 400\n",
    "cfg['title'] = title\n",
    "cfg['location']['name'] = 'Idealized'\n",
    "cfg['location']['depth'] = 200\n",
    "cfg['time']['dt']    = 60.0\n",
    "cfg['grid']['nlev']  = nlev\n",
    "\n",
    "# output\n",
    "cfg['output'] = {}\n",
    "cfg['output']['gotm_out'] = {}\n",
    "cfg['output']['gotm_out']['use'] = True\n",
    "cfg['output']['gotm_out']['title'] = title\n",
    "cfg['output']['gotm_out']['k1_stop'] = nlev+1\n",
    "cfg['output']['gotm_out']['k_stop'] = nlev\n",
    "cfg['output']['gotm_out']['time_unit'] = 'dt'\n",
    "cfg['output']['gotm_out']['time_step'] = 30\n",
    "cfg['output']['gotm_out']['variables'] = [{}]\n",
    "cfg['output']['gotm_out']['variables'][0]['source'] = '*'\n",
    "\n",
    "# forcing\n",
    "cfg['temperature']['method'] = 'file'\n",
    "cfg['salinity']['method'] = 'file'\n",
    "cfg['surface']['fluxes']['heat']['method'] = 'constant'\n",
    "cfg['surface']['fluxes']['tx']['method'] = 'constant'\n",
    "cfg['surface']['fluxes']['ty']['method'] = 'constant'\n",
    "cfg['surface']['fluxes']['ty']['constant_value'] = 0.0\n",
    "cfg['surface']['swr']['method'] = 'file'\n",
    "cfg['surface']['swr']['file'] = datadir+'/swr_era5.dat'\n",
    "cfg['surface']['precip']['method'] = 'constant'\n",
    "cfg['waves']['stokes_drift']['us']['method'] = 'off'\n",
    "cfg['waves']['stokes_drift']['vs']['method'] = 'off'\n",
    "\n",
    "# EOS -- use linear\n",
    "cfg['eq_state']['form'] = 'full-pot'\n",
    "\n",
    "# water type (Jerlov IB)\n",
    "cfg['light_extinction']['method'] = 'jerlov-ib'"
   ]
  },
  {
   "cell_type": "code",
   "execution_count": 7,
   "metadata": {},
   "outputs": [],
   "source": [
    "cfg['turbulence']['turb_method'] = 'second_order'\n",
    "cfg['turbulence']['tke_method'] = 'tke'\n",
    "cfg['turbulence']['len_scale_method'] = 'gls'\n",
    "cfg['turbulence']['scnd']['method'] =  'weak_eq_kb_eq'\n",
    "cfg['turbulence']['scnd']['scnd_coeff'] =  'canuto-a'\n",
    "cfg['turbulence']['turb_param']['length_lim'] = 'false'\n",
    "cfg['turbulence']['turb_param']['compute_c3'] = 'true'\n",
    "cfg['turbulence']['turb_param']['Ri_st'] = 0.25\n",
    "cfg['turbulence']['generic']['gen_m'] = 1.5 \n",
    "cfg['turbulence']['generic']['gen_n'] = -1.0\n",
    "cfg['turbulence']['generic']['gen_p'] = 3.0 \n",
    "cfg['turbulence']['generic']['cpsi1'] = 1.44\n",
    "cfg['turbulence']['generic']['cpsi2'] = 1.92\n",
    "cfg['turbulence']['generic']['cpsi3minus'] = -0.63\n",
    "cfg['turbulence']['generic']['cpsi3plus'] = 1.0 \n",
    "cfg['turbulence']['generic']['sig_kpsi'] = 1.0 \n",
    "cfg['turbulence']['generic']['sig_psi'] = 1.3"
   ]
  },
  {
   "cell_type": "code",
   "execution_count": 8,
   "metadata": {},
   "outputs": [],
   "source": [
    "# collect the configurations and the labels of the two runs\n",
    "cfgs = []\n",
    "labels = []"
   ]
  },
  {
   "cell_type": "code",
   "execution_count": 9,
   "metadata": {},
   "outputs": [
    {
     "data": {
      "text/plain": [
       "['C0030',\n",
       " 'C0133',\n",
       " 'C0236',\n",
       " 'C0339',\n",
       " 'C0442',\n",
       " 'C0545',\n",
       " 'C0648',\n",
       " 'C0751',\n",
       " 'C0854']"
      ]
     },
     "execution_count": 9,
     "metadata": {},
     "output_type": "execute_result"
    }
   ],
   "source": [
    "# load list of cases\n",
    "with open(os.path.join(datadir, 'caselist.txt'), 'r') as f:\n",
    "    lines = f.readlines()\n",
    "caselist = [line.strip() for line in lines]\n",
    "caselist"
   ]
  },
  {
   "cell_type": "code",
   "execution_count": 10,
   "metadata": {},
   "outputs": [
    {
     "name": "stdout",
     "output_type": "stream",
     "text": [
      "C0030: 2019-02-01 00:00:00 -> 2019-02-06 00:00:00\n",
      "  lon: -163.73 lat: -53.92\n",
      "  Qᵣ: -59.31  Qˢᵣ:  12.12  Qˡᵣ: -21.36  τᵣ: 0.130\n",
      "----------------------------------------------------------------\n",
      "-57.54, 0.060 | -57.54, 0.083 | -57.54, 0.106 | -57.54, 0.130 | -57.54, 0.153 | -57.54, 0.176 | -57.54, 0.200\n",
      "-58.13, 0.060 | -58.13, 0.083 | -58.13, 0.106 | -58.13, 0.130 | -58.13, 0.153 | -58.13, 0.176 | -58.13, 0.200\n",
      "-58.72, 0.060 | -58.72, 0.083 | -58.72, 0.106 | -58.72, 0.130 | -58.72, 0.153 | -58.72, 0.176 | -58.72, 0.200\n",
      "-59.31, 0.060 | -59.31, 0.083 | -59.31, 0.106 | -59.31, 0.130 | -59.31, 0.153 | -59.31, 0.176 | -59.31, 0.200\n",
      "-59.90, 0.060 | -59.90, 0.083 | -59.90, 0.106 | -59.90, 0.130 | -59.90, 0.153 | -59.90, 0.176 | -59.90, 0.200\n",
      "-60.49, 0.060 | -60.49, 0.083 | -60.49, 0.106 | -60.49, 0.130 | -60.49, 0.153 | -60.49, 0.176 | -60.49, 0.200\n",
      "-61.08, 0.060 | -61.08, 0.083 | -61.08, 0.106 | -61.08, 0.130 | -61.08, 0.153 | -61.08, 0.176 | -61.08, 0.200\n",
      "\n",
      "\n",
      "C0133: 2019-02-05 00:00:00 -> 2019-02-10 00:00:00\n",
      "  lon: -153.19 lat: -53.77\n",
      "  Qᵣ: -174.88  Qˢᵣ: -23.84  Qˡᵣ: -98.60  τᵣ: 0.462\n",
      "----------------------------------------------------------------\n",
      "-140.40, 0.213 | -140.40, 0.296 | -140.40, 0.379 | -140.40, 0.462 | -140.40, 0.545 | -140.40, 0.628 | -140.40, 0.711\n",
      "-151.89, 0.213 | -151.89, 0.296 | -151.89, 0.379 | -151.89, 0.462 | -151.89, 0.545 | -151.89, 0.628 | -151.89, 0.711\n",
      "-163.39, 0.213 | -163.39, 0.296 | -163.39, 0.379 | -163.39, 0.462 | -163.39, 0.545 | -163.39, 0.628 | -163.39, 0.711\n",
      "-174.88, 0.213 | -174.88, 0.296 | -174.88, 0.379 | -174.88, 0.462 | -174.88, 0.545 | -174.88, 0.628 | -174.88, 0.711\n",
      "-186.38, 0.213 | -186.38, 0.296 | -186.38, 0.379 | -186.38, 0.462 | -186.38, 0.545 | -186.38, 0.628 | -186.38, 0.711\n",
      "-197.87, 0.213 | -197.87, 0.296 | -197.87, 0.379 | -197.87, 0.462 | -197.87, 0.545 | -197.87, 0.628 | -197.87, 0.711\n",
      "-209.37, 0.213 | -209.37, 0.296 | -209.37, 0.379 | -209.37, 0.462 | -209.37, 0.545 | -209.37, 0.628 | -209.37, 0.711\n",
      "\n",
      "\n",
      "C0236: 2019-02-09 00:00:00 -> 2019-02-14 00:00:00\n",
      "  lon: -145.76 lat: -52.9\n",
      "  Qᵣ: -60.47  Qˢᵣ:   1.88  Qˡᵣ: -21.40  τᵣ: 0.067\n",
      "----------------------------------------------------------------\n",
      "-55.32, 0.031 | -55.32, 0.043 | -55.32, 0.055 | -55.32, 0.067 | -55.32, 0.079 | -55.32, 0.091 | -55.32, 0.103\n",
      "-57.04, 0.031 | -57.04, 0.043 | -57.04, 0.055 | -57.04, 0.067 | -57.04, 0.079 | -57.04, 0.091 | -57.04, 0.103\n",
      "-58.75, 0.031 | -58.75, 0.043 | -58.75, 0.055 | -58.75, 0.067 | -58.75, 0.079 | -58.75, 0.091 | -58.75, 0.103\n",
      "-60.47, 0.031 | -60.47, 0.043 | -60.47, 0.055 | -60.47, 0.067 | -60.47, 0.079 | -60.47, 0.091 | -60.47, 0.103\n",
      "-62.19, 0.031 | -62.19, 0.043 | -62.19, 0.055 | -62.19, 0.067 | -62.19, 0.079 | -62.19, 0.091 | -62.19, 0.103\n",
      "-63.91, 0.031 | -63.91, 0.043 | -63.91, 0.055 | -63.91, 0.067 | -63.91, 0.079 | -63.91, 0.091 | -63.91, 0.103\n",
      "-65.63, 0.031 | -65.63, 0.043 | -65.63, 0.055 | -65.63, 0.067 | -65.63, 0.079 | -65.63, 0.091 | -65.63, 0.103\n",
      "\n",
      "\n",
      "C0339: 2019-02-14 00:00:00 -> 2019-02-19 00:00:00\n",
      "  lon: -133.9 lat: -53.8\n",
      "  Qᵣ: -154.81  Qˢᵣ: -29.82  Qˡᵣ: -55.12  τᵣ: 0.427\n",
      "----------------------------------------------------------------\n",
      "-130.09, 0.197 | -130.09, 0.273 | -130.09, 0.350 | -130.09, 0.427 | -130.09, 0.504 | -130.09, 0.581 | -130.09, 0.658\n",
      "-138.33, 0.197 | -138.33, 0.273 | -138.33, 0.350 | -138.33, 0.427 | -138.33, 0.504 | -138.33, 0.581 | -138.33, 0.658\n",
      "-146.57, 0.197 | -146.57, 0.273 | -146.57, 0.350 | -146.57, 0.427 | -146.57, 0.504 | -146.57, 0.581 | -146.57, 0.658\n",
      "-154.81, 0.197 | -154.81, 0.273 | -154.81, 0.350 | -154.81, 0.427 | -154.81, 0.504 | -154.81, 0.581 | -154.81, 0.658\n",
      "-163.05, 0.197 | -163.05, 0.273 | -163.05, 0.350 | -163.05, 0.427 | -163.05, 0.504 | -163.05, 0.581 | -163.05, 0.658\n",
      "-171.29, 0.197 | -171.29, 0.273 | -171.29, 0.350 | -171.29, 0.427 | -171.29, 0.504 | -171.29, 0.581 | -171.29, 0.658\n",
      "-179.53, 0.197 | -179.53, 0.273 | -179.53, 0.350 | -179.53, 0.427 | -179.53, 0.504 | -179.53, 0.581 | -179.53, 0.658\n",
      "\n",
      "\n",
      "C0442: 2019-02-18 00:00:00 -> 2019-02-23 00:00:00\n",
      "  lon: -124.83 lat: -57.59\n",
      "  Qᵣ: -12.62  Qˢᵣ:  22.50  Qˡᵣ:  16.33  τᵣ: 0.119\n",
      "----------------------------------------------------------------\n",
      "-24.46, 0.055 | -24.46, 0.076 | -24.46, 0.098 | -24.46, 0.119 | -24.46, 0.141 | -24.46, 0.163 | -24.46, 0.184\n",
      "-20.51, 0.055 | -20.51, 0.076 | -20.51, 0.098 | -20.51, 0.119 | -20.51, 0.141 | -20.51, 0.163 | -20.51, 0.184\n",
      "-16.57, 0.055 | -16.57, 0.076 | -16.57, 0.098 | -16.57, 0.119 | -16.57, 0.141 | -16.57, 0.163 | -16.57, 0.184\n",
      "-12.62, 0.055 | -12.62, 0.076 | -12.62, 0.098 | -12.62, 0.119 | -12.62, 0.141 | -12.62, 0.163 | -12.62, 0.184\n",
      " -8.68, 0.055 |  -8.68, 0.076 |  -8.68, 0.098 |  -8.68, 0.119 |  -8.68, 0.141 |  -8.68, 0.163 |  -8.68, 0.184\n",
      " -4.74, 0.055 |  -4.74, 0.076 |  -4.74, 0.098 |  -4.74, 0.119 |  -4.74, 0.141 |  -4.74, 0.163 |  -4.74, 0.184\n",
      " -0.79, 0.055 |  -0.79, 0.076 |  -0.79, 0.098 |  -0.79, 0.119 |  -0.79, 0.141 |  -0.79, 0.163 |  -0.79, 0.184\n",
      "\n",
      "\n",
      "C0545: 2019-02-22 00:00:00 -> 2019-02-27 00:00:00\n",
      "  lon: -117.6 lat: -59.76\n",
      "  Qᵣ: -60.47  Qˢᵣ:   2.12  Qˡᵣ:  -0.44  τᵣ: 0.062\n",
      "----------------------------------------------------------------\n",
      "-61.05, 0.028 | -61.05, 0.040 | -61.05, 0.051 | -61.05, 0.062 | -61.05, 0.073 | -61.05, 0.084 | -61.05, 0.095\n",
      "-60.85, 0.028 | -60.85, 0.040 | -60.85, 0.051 | -60.85, 0.062 | -60.85, 0.073 | -60.85, 0.084 | -60.85, 0.095\n",
      "-60.66, 0.028 | -60.66, 0.040 | -60.66, 0.051 | -60.66, 0.062 | -60.66, 0.073 | -60.66, 0.084 | -60.66, 0.095\n",
      "-60.47, 0.028 | -60.47, 0.040 | -60.47, 0.051 | -60.47, 0.062 | -60.47, 0.073 | -60.47, 0.084 | -60.47, 0.095\n",
      "-60.27, 0.028 | -60.27, 0.040 | -60.27, 0.051 | -60.27, 0.062 | -60.27, 0.073 | -60.27, 0.084 | -60.27, 0.095\n",
      "-60.08, 0.028 | -60.08, 0.040 | -60.08, 0.051 | -60.08, 0.062 | -60.08, 0.073 | -60.08, 0.084 | -60.08, 0.095\n",
      "-59.89, 0.028 | -59.89, 0.040 | -59.89, 0.051 | -59.89, 0.062 | -59.89, 0.073 | -59.89, 0.084 | -59.89, 0.095\n",
      "\n",
      "\n",
      "C0648: 2019-02-27 00:00:00 -> 2019-03-04 00:00:00\n",
      "  lon: -109.65 lat: -60.68\n",
      "  Qᵣ: -82.74  Qˢᵣ: -15.74  Qˡᵣ: -28.43  τᵣ: 0.215\n",
      "----------------------------------------------------------------\n",
      "-69.87, 0.099 | -69.87, 0.137 | -69.87, 0.176 | -69.87, 0.215 | -69.87, 0.253 | -69.87, 0.292 | -69.87, 0.331\n",
      "-74.16, 0.099 | -74.16, 0.137 | -74.16, 0.176 | -74.16, 0.215 | -74.16, 0.253 | -74.16, 0.292 | -74.16, 0.331\n",
      "-78.45, 0.099 | -78.45, 0.137 | -78.45, 0.176 | -78.45, 0.215 | -78.45, 0.253 | -78.45, 0.292 | -78.45, 0.331\n",
      "-82.74, 0.099 | -82.74, 0.137 | -82.74, 0.176 | -82.74, 0.215 | -82.74, 0.253 | -82.74, 0.292 | -82.74, 0.331\n",
      "-87.03, 0.099 | -87.03, 0.137 | -87.03, 0.176 | -87.03, 0.215 | -87.03, 0.253 | -87.03, 0.292 | -87.03, 0.331\n",
      "-91.32, 0.099 | -91.32, 0.137 | -91.32, 0.176 | -91.32, 0.215 | -91.32, 0.253 | -91.32, 0.292 | -91.32, 0.331\n",
      "-95.61, 0.099 | -95.61, 0.137 | -95.61, 0.176 | -95.61, 0.215 | -95.61, 0.253 | -95.61, 0.292 | -95.61, 0.331\n",
      "\n",
      "\n",
      "C0751: 2019-03-03 00:00:00 -> 2019-03-08 00:00:00\n",
      "  lon: -97.48 lat: -58.77\n",
      "  Qᵣ: -176.98  Qˢᵣ: -35.51  Qˡᵣ: -88.95  τᵣ: 0.206\n",
      "----------------------------------------------------------------\n",
      "-141.25, 0.095 | -141.25, 0.132 | -141.25, 0.169 | -141.25, 0.206 | -141.25, 0.243 | -141.25, 0.280 | -141.25, 0.317\n",
      "-153.16, 0.095 | -153.16, 0.132 | -153.16, 0.169 | -153.16, 0.206 | -153.16, 0.243 | -153.16, 0.280 | -153.16, 0.317\n",
      "-165.07, 0.095 | -165.07, 0.132 | -165.07, 0.169 | -165.07, 0.206 | -165.07, 0.243 | -165.07, 0.280 | -165.07, 0.317\n",
      "-176.98, 0.095 | -176.98, 0.132 | -176.98, 0.169 | -176.98, 0.206 | -176.98, 0.243 | -176.98, 0.280 | -176.98, 0.317\n",
      "-188.89, 0.095 | -188.89, 0.132 | -188.89, 0.169 | -188.89, 0.206 | -188.89, 0.243 | -188.89, 0.280 | -188.89, 0.317\n",
      "-200.81, 0.095 | -200.81, 0.132 | -200.81, 0.169 | -200.81, 0.206 | -200.81, 0.243 | -200.81, 0.280 | -200.81, 0.317\n",
      "-212.72, 0.095 | -212.72, 0.132 | -212.72, 0.169 | -212.72, 0.206 | -212.72, 0.243 | -212.72, 0.280 | -212.72, 0.317\n",
      "\n",
      "\n",
      "C0854: 2019-03-07 00:00:00 -> 2019-03-12 00:00:00\n",
      "  lon: -91.14 lat: -59.92\n",
      "  Qᵣ: -41.87  Qˢᵣ:  45.73  Qˡᵣ: -28.61  τᵣ: 0.648\n",
      "----------------------------------------------------------------\n",
      "-49.24, 0.298 | -49.24, 0.415 | -49.24, 0.531 | -49.24, 0.648 | -49.24, 0.764 | -49.24, 0.881 | -49.24, 0.998\n",
      "-46.78, 0.298 | -46.78, 0.415 | -46.78, 0.531 | -46.78, 0.648 | -46.78, 0.764 | -46.78, 0.881 | -46.78, 0.998\n"
     ]
    },
    {
     "name": "stdout",
     "output_type": "stream",
     "text": [
      "-44.33, 0.298 | -44.33, 0.415 | -44.33, 0.531 | -44.33, 0.648 | -44.33, 0.764 | -44.33, 0.881 | -44.33, 0.998\n",
      "-41.87, 0.298 | -41.87, 0.415 | -41.87, 0.531 | -41.87, 0.648 | -41.87, 0.764 | -41.87, 0.881 | -41.87, 0.998\n",
      "-39.42, 0.298 | -39.42, 0.415 | -39.42, 0.531 | -39.42, 0.648 | -39.42, 0.764 | -39.42, 0.881 | -39.42, 0.998\n",
      "-36.96, 0.298 | -36.96, 0.415 | -36.96, 0.531 | -36.96, 0.648 | -36.96, 0.764 | -36.96, 0.881 | -36.96, 0.998\n",
      "-34.51, 0.298 | -34.51, 0.415 | -34.51, 0.531 | -34.51, 0.648 | -34.51, 0.764 | -34.51, 0.881 | -34.51, 0.998\n",
      "\n",
      "\n"
     ]
    }
   ],
   "source": [
    "nstd_hf  = [-3., -2., -1., 0., 1., 2., 3.]\n",
    "nstd_tau = [-3., -2., -1., 0., 1., 2., 3.]\n",
    "nstd_hf_label = ['{prefix}{val:d}'.format(prefix='p' if v > 0 else 'm' if v < 0 else '',\n",
    "                                          val=abs(int(v))) for v in nstd_hf]\n",
    "nstd_tau_label = ['{prefix}{val:d}'.format(prefix='p' if v > 0 else 'm' if v < 0 else '',\n",
    "                                           val=abs(int(v))) for v in nstd_tau]\n",
    "stau = 0.18\n",
    "sqlat = 0.09\n",
    "sqsens = 0.11\n",
    "for cname in caselist:\n",
    "    configfile = os.path.join(datadir, cname, 'config.dat')\n",
    "    tproffile = os.path.join(datadir, cname, 't_prof.dat')\n",
    "    sproffile = os.path.join(datadir, cname, 's_prof.dat')\n",
    "    with open(configfile, 'r') as f:\n",
    "        lines = f.readlines()\n",
    "    startdate = lines[0].strip()\n",
    "    lon, lat, hf, tau, qlat, qsens = lines[1].strip().split()\n",
    "    lon = float(lon)\n",
    "    lat = float(lat)\n",
    "    hf = float(hf)\n",
    "    tau = float(tau)\n",
    "    qlat = float(qlat)\n",
    "    qsens = float(qsens)\n",
    "    dttime = pd.to_datetime(startdate)\n",
    "    dttime_stop = dttime + pd.DateOffset(days=5)\n",
    "    stopdate = dttime_stop.strftime('%Y-%m-%d %H:%M:%S')\n",
    "    print('{}: {} -> {}'.format(cname, startdate, stopdate))\n",
    "    print('  lon: {} lat: {}'.format(lon, lat))\n",
    "    print('  Qᵣ: {:6.2f}  Qˢᵣ: {:6.2f}  Qˡᵣ: {:6.2f}  τᵣ: {:5.3f}'.format(hf, qsens, qlat, tau))\n",
    "    print('-'*64)\n",
    "    for i, std1 in enumerate(nstd_hf):\n",
    "        hf_a  = hf + std1*(qsens*sqsens+qlat*sqlat)\n",
    "        plist = []\n",
    "        for j, std2 in enumerate(nstd_tau):\n",
    "            tau_a = tau + std2*tau*stau\n",
    "            plist.append('{:6.2f}, {:5.3f}'.format(hf_a, tau_a))\n",
    "            rlabel = '-'.join([cname, 'hf', nstd_hf_label[i], 'tau', nstd_tau_label[j]])\n",
    "#             print(clabel)\n",
    "            # set config\n",
    "            cfg['location']['latitude'] = lat\n",
    "            cfg['location']['longitude'] = lon\n",
    "            cfg['time']['start'] = startdate\n",
    "            cfg['time']['stop']  = stopdate\n",
    "            cfg['turbulence']['turb_method'] = 'second_order' \n",
    "            cfg['temperature']['file'] = tproffile\n",
    "            cfg['salinity']['file'] = sproffile\n",
    "            cfg['surface']['fluxes']['heat']['constant_value'] = hf_a\n",
    "            cfg['surface']['fluxes']['tx']['constant_value'] = tau_a\n",
    "            cfgs.append(copy.deepcopy(cfg))\n",
    "            labels.append(rlabel+'_GLS-C01A')\n",
    "            cfg['turbulence']['turb_method'] = 'cvmix'\n",
    "            cfg['cvmix']['surface_layer']['kpp']['langmuir_method'] = 'none'\n",
    "            cfgs.append(copy.deepcopy(cfg))\n",
    "            labels.append(rlabel+'_KPP-CVMix')\n",
    "        print(' | '.join(plist))          \n",
    "    print('\\n')"
   ]
  },
  {
   "cell_type": "markdown",
   "metadata": {},
   "source": [
    "## Run the model"
   ]
  },
  {
   "cell_type": "code",
   "execution_count": 11,
   "metadata": {},
   "outputs": [
    {
     "name": "stdout",
     "output_type": "stream",
     "text": [
      "CPU times: user 700 ms, sys: 119 ms, total: 819 ms\n",
      "Wall time: 3min 18s\n"
     ]
    }
   ],
   "source": [
    "%%time\n",
    "sims = m.run_batch(configs=cfgs, labels=labels, nproc=4)"
   ]
  },
  {
   "cell_type": "code",
   "execution_count": null,
   "metadata": {},
   "outputs": [],
   "source": []
  }
 ],
 "metadata": {
  "kernelspec": {
   "display_name": "Python 3 (ipykernel)",
   "language": "python",
   "name": "python3"
  },
  "language_info": {
   "codemirror_mode": {
    "name": "ipython",
    "version": 3
   },
   "file_extension": ".py",
   "mimetype": "text/x-python",
   "name": "python",
   "nbconvert_exporter": "python",
   "pygments_lexer": "ipython3",
   "version": "3.9.7"
  }
 },
 "nbformat": 4,
 "nbformat_minor": 4
}
